{
 "cells": [
  {
   "cell_type": "code",
   "execution_count": null,
   "id": "e76d6e82-958e-438e-892e-7d5db8ad520c",
   "metadata": {},
   "outputs": [],
   "source": [
    "bygubuy"
   ]
  }
 ],
 "metadata": {
  "kernelspec": {
   "display_name": "R",
   "language": "R",
   "name": "ir"
  },
  "language_info": {
   "codemirror_mode": "r",
   "file_extension": ".r",
   "mimetype": "text/x-r-source",
   "name": "R",
   "pygments_lexer": "r",
   "version": "4.3.1"
  }
 },
 "nbformat": 4,
 "nbformat_minor": 5
}
