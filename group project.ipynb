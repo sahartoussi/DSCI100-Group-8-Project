{
 "cells": [
  {
   "cell_type": "markdown",
   "id": "f3f1a997-3d79-4f39-9c08-fc410493d27c",
   "metadata": {},
   "source": [
    "Title: Predicting tennis player rank categories based on the number of seasons active, prize money won, age, and height.\r\n",
    "\n",
    "Background information:\r\n",
    "Tennis rankings are determined based on the number of points a player has. Points are acquired by playing in tournaments. Winning higher-status tournaments, such as a Grand Slam, results in more points gained (2000). Winning tournaments also lets players earn prize money, where like points, winning a higher-status tournament gives more prize money. Higher-ranking players are therefore more likely to have earned more prize money. Additionally, players who have competed in more seasons have had more opportunities to win tournaments, possibly indicating that they have a higher ranking\n",
    "\n",
    "\n",
    "\n",
    "Question: \r\n",
    "The question we will be exploring in this project is: Can we use known player statistics (number of seasons active, prize money, age, and height) of the top 500 players to predict which category rank a future player will reside i? \n",
    "\r\n",
    "To answer this question we will be using the “Player Stats for the Top 500 Players” data frame whi ch provides statistics on each top player such as age, height, number of seasons active, and current ra\n",
    "\n",
    "\n",
    "Variables:\n",
    "\n",
    "We will be using the number of seasons a player has played in, how much prize money they've won, the age of the player, and the height of the player.\n",
    "\n",
    "\n",
    "ayer\r\n",
    "nk.\r\n",
    ".\r\n",
    "\r\n",
    "\n"
   ]
  },
  {
   "cell_type": "code",
   "execution_count": null,
   "id": "87e17c89-d6a1-496b-a9d9-eea9a67a157b",
   "metadata": {},
   "outputs": [],
   "source": []
  }
 ],
 "metadata": {
  "kernelspec": {
   "display_name": "R",
   "language": "R",
   "name": "ir"
  },
  "language_info": {
   "codemirror_mode": "r",
   "file_extension": ".r",
   "mimetype": "text/x-r-source",
   "name": "R",
   "pygments_lexer": "r",
   "version": "4.3.1"
  }
 },
 "nbformat": 4,
 "nbformat_minor": 5
}
